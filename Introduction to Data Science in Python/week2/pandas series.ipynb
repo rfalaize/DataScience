{
 "cells": [
  {
   "cell_type": "code",
   "execution_count": 2,
   "metadata": {
    "collapsed": true
   },
   "outputs": [],
   "source": [
    "import pandas as pd"
   ]
  },
  {
   "cell_type": "markdown",
   "metadata": {},
   "source": [
    "#Pandas - Series"
   ]
  },
  {
   "cell_type": "code",
   "execution_count": 8,
   "metadata": {},
   "outputs": [
    {
     "data": {
      "text/plain": [
       "0    Tiger\n1     Bear\n2    Moose\ndtype: object"
      ]
     },
     "execution_count": 8,
     "metadata": {},
     "output_type": "execute_result"
    }
   ],
   "source": [
    "# Series are a core data structure in pandas\n",
    "animals = ['Tiger','Bear', 'Moose']\n",
    "pd.Series(animals)"
   ]
  },
  {
   "cell_type": "code",
   "execution_count": 9,
   "metadata": {},
   "outputs": [
    {
     "data": {
      "text/plain": [
       "0    1\n1    2\n2    3\ndtype: int64"
      ]
     },
     "execution_count": 9,
     "metadata": {},
     "output_type": "execute_result"
    }
   ],
   "source": [
    "numbers = [1, 2, 3]\n",
    "pd.Series(numbers)"
   ]
  },
  {
   "cell_type": "code",
   "execution_count": 14,
   "metadata": {},
   "outputs": [
    {
     "name": "stdout",
     "output_type": "stream",
     "text": [
      "0    Tiger\n1     None\ndtype: object\n0    1.0\n1    NaN\ndtype: float64\n"
     ]
    }
   ],
   "source": [
    "# underneath, pandas stores series values in a typed array using the numpy lib\n",
    "# pandas does an automatic type conversion\n",
    "print(pd.Series(['Tiger', None]))\n",
    "print(pd.Series([1, None]))"
   ]
  },
  {
   "cell_type": "code",
   "execution_count": 16,
   "metadata": {},
   "outputs": [
    {
     "name": "stdout",
     "output_type": "stream",
     "text": [
      "False\nFalse\nTrue\n"
     ]
    }
   ],
   "source": [
    "import numpy as np\n",
    "print(np.nan == None)\n",
    "print(np.nan == np.nan)\n",
    "print(np.isnan(np.nan))"
   ]
  },
  {
   "cell_type": "code",
   "execution_count": 18,
   "metadata": {},
   "outputs": [
    {
     "data": {
      "text/plain": [
       "{'Archery': 'Bhutan', 'Golf': 'Scotland', 'Sumo': 'Japan'}"
      ]
     },
     "execution_count": 18,
     "metadata": {},
     "output_type": "execute_result"
    }
   ],
   "source": [
    "# series can be created from dictionaries\n",
    "# doing so, the dictionary keys are automatically passed as series' labels\n",
    "sports = {'Archery': 'Bhutan','Golf': 'Scotland', 'Sumo':'Japan'}\n",
    "sports"
   ]
  },
  {
   "cell_type": "code",
   "execution_count": 34,
   "metadata": {},
   "outputs": [
    {
     "name": "stdout",
     "output_type": "stream",
     "text": [
      "Archery      Bhutan\nGolf       Scotland\nSumo          Japan\ndtype: object\nIndex(['Archery', 'Golf', 'Sumo'], dtype='object')\n['Bhutan' 'Scotland' 'Japan']\n"
     ]
    }
   ],
   "source": [
    "s = pd.Series(sports)\n",
    "print(s)\n",
    "print(s.keys())\n",
    "print(s.values)"
   ]
  },
  {
   "cell_type": "code",
   "execution_count": 23,
   "metadata": {},
   "outputs": [
    {
     "data": {
      "text/plain": [
       "array(['Bhutan', 'Scotland', 'Japan'], dtype=object)"
      ]
     },
     "execution_count": 23,
     "metadata": {},
     "output_type": "execute_result"
    }
   ],
   "source": [
    "s.values"
   ]
  },
  {
   "cell_type": "code",
   "execution_count": 35,
   "metadata": {},
   "outputs": [
    {
     "data": {
      "text/plain": [
       "Index(['Archery', 'Golf', 'Sumo'], dtype='object')"
      ]
     },
     "execution_count": 35,
     "metadata": {},
     "output_type": "execute_result"
    }
   ],
   "source": [
    "s.index"
   ]
  },
  {
   "cell_type": "code",
   "execution_count": 38,
   "metadata": {},
   "outputs": [
    {
     "data": {
      "text/plain": [
       "India      Tiger\nAmerica     Bear\ndtype: object"
      ]
     },
     "execution_count": 38,
     "metadata": {},
     "output_type": "execute_result"
    }
   ],
   "source": [
    "# we can also pass a list as index\n",
    "s = pd.Series(['Tiger','Bear'], index=['India','America'])\n",
    "s"
   ]
  },
  {
   "cell_type": "markdown",
   "metadata": {},
   "source": [
    "#Querying a series"
   ]
  },
  {
   "cell_type": "code",
   "execution_count": 5,
   "metadata": {},
   "outputs": [
    {
     "data": {
      "text/plain": [
       "Archery           Bhutan\nGolf            Scotland\nSumo               Japan\nTaekwondo    South Korea\ndtype: object"
      ]
     },
     "execution_count": 5,
     "metadata": {},
     "output_type": "execute_result"
    }
   ],
   "source": [
    "sports = {'Archery':'Bhutan',\n",
    "          'Golf':'Scotland',\n",
    "          'Sumo':'Japan',\n",
    "          'Taekwondo':'South Korea'}\n",
    "s = pd.Series(sports)\n",
    "s"
   ]
  },
  {
   "cell_type": "code",
   "execution_count": 12,
   "metadata": {},
   "outputs": [
    {
     "name": "stdout",
     "output_type": "stream",
     "text": [
      "South Korea\nJapan\n"
     ]
    }
   ],
   "source": [
    "# A serie can be queried using the index position or the index label\n",
    "print(s.iloc[3])        # by position; starts a 0\n",
    "print(s.loc['Sumo'])    # by index\n",
    "# note: iloc and loc are attributes, not methods"
   ]
  },
  {
   "cell_type": "code",
   "execution_count": 14,
   "metadata": {},
   "outputs": [
    {
     "name": "stdout",
     "output_type": "stream",
     "text": [
      "South Korea\nScotland\n"
     ]
    }
   ],
   "source": [
    "# smart indexing, but not recommended\n",
    "print(s[3])\n",
    "print(s['Golf'])"
   ]
  },
  {
   "cell_type": "code",
   "execution_count": 3,
   "metadata": {},
   "outputs": [
    {
     "data": {
      "text/plain": [
       "0    100.0\n1    120.0\n2    101.0\n3      3.0\ndtype: float64"
      ]
     },
     "execution_count": 3,
     "metadata": {},
     "output_type": "execute_result"
    }
   ],
   "source": [
    "s = pd.Series([100.00, 120.00, 101.00, 3.00])\n",
    "s"
   ]
  },
  {
   "cell_type": "code",
   "execution_count": 20,
   "metadata": {},
   "outputs": [
    {
     "name": "stdout",
     "output_type": "stream",
     "text": [
      "324.0\n"
     ]
    }
   ],
   "source": [
    "# sum using loop. works, but slow\n",
    "total = 0\n",
    "for item in s:\n",
    "    total += item\n",
    "print(total)"
   ]
  },
  {
   "cell_type": "code",
   "execution_count": 4,
   "metadata": {},
   "outputs": [
    {
     "data": {
      "text/plain": [
       "324.0"
      ]
     },
     "execution_count": 4,
     "metadata": {},
     "output_type": "execute_result"
    }
   ],
   "source": [
    "# pandas and numpy support vectorized computation\n",
    "import numpy as np\n",
    "np.sum(s)"
   ]
  },
  {
   "cell_type": "code",
   "execution_count": 25,
   "metadata": {},
   "outputs": [
    {
     "name": "stdout",
     "output_type": "stream",
     "text": [
      "10000\n"
     ]
    },
    {
     "data": {
      "text/plain": [
       "0    677\n1     79\n2    897\n3    442\n4    340\ndtype: int32"
      ]
     },
     "execution_count": 25,
     "metadata": {},
     "output_type": "execute_result"
    }
   ],
   "source": [
    "# let's time both\n",
    "s = pd.Series(np.random.randint(0,1000,10000))\n",
    "print(len(s))\n",
    "s.head()    # return first 5 elements"
   ]
  },
  {
   "cell_type": "markdown",
   "metadata": {},
   "source": [
    "Magic functions start with a % sign\n",
    "We are going to use a cellular magic function, starting with %%\n",
    "It will wrap the code in the current jupyter cell"
   ]
  },
  {
   "cell_type": "code",
   "execution_count": 27,
   "metadata": {},
   "outputs": [
    {
     "name": "stdout",
     "output_type": "stream",
     "text": [
      "100 loops, best of 3: 714 µs per loop\n"
     ]
    }
   ],
   "source": [
    "%%timeit -n 100\n",
    "summary = 0\n",
    "for item in s:\n",
    "    summary += item"
   ]
  },
  {
   "cell_type": "code",
   "execution_count": 41,
   "metadata": {},
   "outputs": [
    {
     "name": "stdout",
     "output_type": "stream",
     "text": [
      "100 loops, best of 3: 83.5 µs per loop\n"
     ]
    }
   ],
   "source": [
    "%%timeit -n 100\n",
    "np.sum(s)"
   ]
  },
  {
   "cell_type": "markdown",
   "metadata": {},
   "source": [
    "Broadcasting: apply an operation to modify each value of a series"
   ]
  },
  {
   "cell_type": "code",
   "execution_count": 6,
   "metadata": {},
   "outputs": [
    {
     "name": "stdout",
     "output_type": "stream",
     "text": [
      "10 loops, best of 3: 529 ms per loop\n"
     ]
    }
   ],
   "source": [
    "%%timeit -n 10\n",
    "s = pd.Series(np.random.randint(0,1000,10000))\n",
    "for label,value in s.iteritems():\n",
    "    s.loc[label] = value + 2"
   ]
  },
  {
   "cell_type": "code",
   "execution_count": 9,
   "metadata": {},
   "outputs": [
    {
     "name": "stdout",
     "output_type": "stream",
     "text": [
      "10 loops, best of 3: 317 µs per loop\n"
     ]
    }
   ],
   "source": [
    "%%timeit -n 10\n",
    "s = pd.Series(np.random.randint(0,1000,10000))\n",
    "s+=2"
   ]
  },
  {
   "cell_type": "code",
   "execution_count": 10,
   "metadata": {},
   "outputs": [
    {
     "data": {
      "text/plain": [
       "0             1\n1             2\n2             3\nAnimal    Bears\ndtype: object"
      ]
     },
     "execution_count": 10,
     "metadata": {},
     "output_type": "execute_result"
    }
   ],
   "source": [
    "# loc attribute can also be used to add new items\n",
    "s = pd.Series([1,2,3])\n",
    "s.loc['Animal']='Bears' # pandas allows mixed types\n",
    "s"
   ]
  },
  {
   "cell_type": "code",
   "execution_count": 12,
   "metadata": {},
   "outputs": [
    {
     "data": {
      "text/plain": [
       "Archery           Bhutan\nGolf            Scotland\nSumo               Japan\nTaekwondo    South Korea\nCricket        Australia\nCricket         Barbados\nCricket         Pakistan\nCricket          England\ndtype: object"
      ]
     },
     "execution_count": 12,
     "metadata": {},
     "output_type": "execute_result"
    }
   ],
   "source": [
    "# example with non unique index values\n",
    "# this makes dataframes different from a relational database\n",
    "original_sports = pd.Series({'Archery':'Bhutan',\n",
    "          'Golf':'Scotland',\n",
    "          'Sumo':'Japan',\n",
    "          'Taekwondo':'South Korea'})\n",
    "# create a new series with multiple entries for cricket\n",
    "cricket_loving_countries = \\\n",
    "    pd.Series(['Australia',\n",
    "               'Barbados',\n",
    "               'Pakistan',\n",
    "               'England'],\n",
    "              index=['Cricket',\n",
    "                     'Cricket',\n",
    "                     'Cricket',\n",
    "                     'Cricket'])\n",
    "# append will not change the original list\n",
    "# instead, it will return a new list with appended values\n",
    "# pandas will try to infer the best data type to use\n",
    "all_countries = original_sports.append(cricket_loving_countries)\n",
    "all_countries"
   ]
  },
  {
   "cell_type": "code",
   "execution_count": null,
   "metadata": {},
   "outputs": [],
   "source": [
    ""
   ]
  }
 ],
 "metadata": {
  "kernelspec": {
   "display_name": "Python 2",
   "language": "python",
   "name": "python2"
  },
  "language_info": {
   "codemirror_mode": {
    "name": "ipython",
    "version": 2.0
   },
   "file_extension": ".py",
   "mimetype": "text/x-python",
   "name": "python",
   "nbconvert_exporter": "python",
   "pygments_lexer": "ipython2",
   "version": "2.7.6"
  }
 },
 "nbformat": 4,
 "nbformat_minor": 0
}